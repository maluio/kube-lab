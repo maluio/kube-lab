{
 "cells": [
  {
   "cell_type": "markdown",
   "id": "571ba72d-c81f-496a-9328-1c96d8b66000",
   "metadata": {},
   "source": [
    "# Journey of a pod\n",
    "\n",
    "\n",
    "What happens when I run `kubectl run nginx --image nginx`\n",
    "\n",
    "\n",
    "## State of the cluster before\n",
    "\n",
    "* What's in etcd ?\n",
    "* Are there any containers running on any of the nodes ?\n",
    "* What's on the network stack?\n",
    "\n",
    "## Running the command\n",
    "\n",
    "* kubectl sends a http call to the api-server with this payload ...\n",
    "* the api server ...\n",
    "* the controll server ...\n",
    "* the scheduler ...\n",
    "* ... calls kubelet on one of the two nodes\n",
    "* the node runs the container\n",
    "    * image is pulled and stored in ...\n",
    "    * ... runs the container with ...\n",
    "* kubelt reports back to the api-server\n",
    "* What's new in the network ?\n",
    "\n",
    "## Challenges\n",
    "\n",
    "It might be complicated to get kubernetes system logs [https://kubernetes.io/docs/concepts/cluster-administration/system-traces/](https://kubernetes.io/docs/concepts/cluster-administration/system-traces/)\n",
    "\n",
    "## Links\n",
    "\n",
    "* [Kubernetes components (kubernetes.io)](https://kubernetes.io/docs/concepts/overview/components/)\n",
    "* [Discover Kubernetes API Calls from kubectl (trstringer.com)](https://trstringer.com/kubernetes-api-call-from-kubectl/)\n",
    "* [Access Clusters Using the Kubernetes API (kubernetes.io)](https://kubernetes.io/docs/tasks/administer-cluster/access-cluster-api/#without-kubectl-proxy)"
   ]
  },
  {
   "cell_type": "markdown",
   "id": "a2299090-52eb-47a4-9183-e4621a56c833",
   "metadata": {},
   "source": [
    "## State of the cluster before"
   ]
  },
  {
   "cell_type": "code",
   "execution_count": 53,
   "id": "8e235a04-c413-4d4b-b93e-87556c91a850",
   "metadata": {},
   "outputs": [
    {
     "name": "stdout",
     "output_type": "stream",
     "text": [
      "NAME                 TYPE        CLUSTER-IP   EXTERNAL-IP   PORT(S)   AGE\n",
      "service/kubernetes   ClusterIP   10.233.0.1   <none>        443/TCP   121m\n"
     ]
    }
   ],
   "source": [
    "# What's running in the default namespace ?\n",
    "! kubectl get all"
   ]
  },
  {
   "cell_type": "code",
   "execution_count": 54,
   "id": "39b87b27-82e0-47d6-a91b-32b2cee69746",
   "metadata": {
    "tags": []
   },
   "outputs": [
    {
     "name": "stdout",
     "output_type": "stream",
     "text": [
      "Name:              kubernetes\n",
      "Namespace:         default\n",
      "Labels:            component=apiserver\n",
      "                   provider=kubernetes\n",
      "Annotations:       <none>\n",
      "Selector:          <none>\n",
      "Type:              ClusterIP\n",
      "IP Family Policy:  SingleStack\n",
      "IP Families:       IPv4\n",
      "IP:                10.233.0.1\n",
      "IPs:               10.233.0.1\n",
      "Port:              https  443/TCP\n",
      "TargetPort:        6443/TCP\n",
      "Endpoints:         xxx.xxx.235.216:6443\n",
      "Session Affinity:  None\n",
      "Events:            <none>\n"
     ]
    }
   ],
   "source": [
    "# What's in that service/kubernetes ?\n",
    "! kubectl describe service/kubernetes"
   ]
  },
  {
   "cell_type": "markdown",
   "id": "46c4e79d-3ba9-4127-bd12-adde4daf5934",
   "metadata": {
    "tags": []
   },
   "source": [
    "[Publishing Services (ServiceTypes)](https://kubernetes.io/docs/concepts/services-networking/service/#publishing-services-service-types)\n",
    "\n",
    "> ClusterIP: Exposes the Service on a cluster-internal IP. Choosing this value makes the Service only reachable from within the cluster. This is the default ServiceType.\n",
    "\n",
    "It seems like `service/kubernetes` allows anyone within the cluster to talk to the api-server.\n",
    "\n",
    "What if we try to make a call from within one of the nodes ?"
   ]
  },
  {
   "cell_type": "code",
   "execution_count": 17,
   "id": "61cb63c7-efbc-497c-b719-53efa2499f26",
   "metadata": {
    "tags": []
   },
   "outputs": [
    {
     "name": "stdout",
     "output_type": "stream",
     "text": [
      "  % Total    % Received % Xferd  Average Speed   Time    Time     Time  Current\n",
      "                                 Dload  Upload   Total   Spent    Left  Speed\n",
      "  0     0    0     0    0     0      0      0 --:--:-- --:--:-- --:--:--     0\n",
      "curl: (7) Failed to connect to kubernetes.default.svc.cluster.local port 6443: Connection refused\n"
     ]
    }
   ],
   "source": [
    "! ssh -q node2 \"curl https://kubernetes.default.svc.cluster.local:6443/api/v1/namespaces/default/pods?limit=500\""
   ]
  },
  {
   "cell_type": "markdown",
   "id": "71e794e2-e634-4585-910e-101eef8d73b4",
   "metadata": {},
   "source": [
    "Hypothesis: The connection was refused because the call was not authenticated."
   ]
  },
  {
   "cell_type": "code",
   "execution_count": 52,
   "id": "552272f6-bff9-47ec-aafc-78ac6084a952",
   "metadata": {},
   "outputs": [
    {
     "name": "stdout",
     "output_type": "stream",
     "text": [
      "CONTAINER ID    IMAGE                                       COMMAND                   CREATED        STATUS    PORTS    NAMES\n",
      "03d415712a9f    k8s.gcr.io/kube-proxy:v1.23.7               \"/usr/local/bin/kube…\"    2 hours ago    Up                 k8s://kube-system/kube-proxy-xn9rx/kube-proxy                                         \n",
      "0c12bf085273    k8s.gcr.io/pause:3.3                        \"/pause\"                  2 hours ago    Up                 k8s://kube-system/nodelocaldns-f29kg                                                  \n",
      "143622dbd6d7    k8s.gcr.io/pause:3.3                        \"/pause\"                  2 hours ago    Up                 k8s://kube-system/nginx-proxy-node2                                                   \n",
      "17b03d491dad    k8s.gcr.io/dns/k8s-dns-node-cache:1.21.1    \"/node-cache -locali…\"    2 hours ago    Up                 k8s://kube-system/nodelocaldns-f29kg/node-cache                                       \n",
      "1d23a60e2b99    quay.io/calico/kube-controllers:v3.22.3     \"/usr/bin/kube-contr…\"    2 hours ago    Up                 k8s://kube-system/calico-kube-controllers-6dd874f784-vgt2p/calico-kube-controllers    \n",
      "272c0f3e4f89    k8s.gcr.io/pause:3.3                        \"/pause\"                  2 hours ago    Up                 k8s://kube-system/kube-proxy-xn9rx                                                    \n",
      "37986d4e545e    k8s.gcr.io/pause:3.3                        \"/pause\"                  2 hours ago    Up                 k8s://kube-system/coredns-76b4fb4578-fvkgt                                            \n",
      "71f11adfd533    docker.io/library/nginx:1.21.4              \"/docker-entrypoint.…\"    2 hours ago    Up                 k8s://kube-system/nginx-proxy-node2/nginx-proxy                                       \n",
      "a7e8bbea6cb3    k8s.gcr.io/pause:3.3                        \"/pause\"                  2 hours ago    Up                 k8s://kube-system/calico-kube-controllers-6dd874f784-vgt2p                            \n",
      "b85520a33bd1    quay.io/calico/node:v3.22.3                 \"start_runit\"             2 hours ago    Up                 k8s://kube-system/calico-node-94ldz/calico-node                                       \n",
      "e45fd0d7cdaf    k8s.gcr.io/coredns/coredns:v1.8.6           \"/coredns -conf /etc…\"    2 hours ago    Up                 k8s://kube-system/coredns-76b4fb4578-fvkgt/coredns                                    \n",
      "f93fb4d05e92    k8s.gcr.io/pause:3.3                        \"/pause\"                  2 hours ago    Up                 k8s://kube-system/calico-node-94ldz                                                   \n"
     ]
    }
   ],
   "source": [
    "# Which containers are running on node 2 ?\n",
    "! ssh -q node2 \"nerdctl ps\""
   ]
  },
  {
   "cell_type": "code",
   "execution_count": 55,
   "id": "a571e90e-04f1-49f9-98a8-8e863d85bc17",
   "metadata": {},
   "outputs": [
    {
     "name": "stdout",
     "output_type": "stream",
     "text": [
      "CONTAINER ID    IMAGE                                               COMMAND                   CREATED        STATUS    PORTS    NAMES\n",
      "1210821f8181    k8s.gcr.io/dns/k8s-dns-node-cache:1.21.1            \"/node-cache -locali…\"    2 hours ago    Up                 k8s://kube-system/nodelocaldns-s728x/node-cache                                            \n",
      "4b9c1c7a61af    k8s.gcr.io/pause:3.3                                \"/pause\"                  2 hours ago    Up                 k8s://kube-system/calico-node-h47zr                                                        \n",
      "56abc426aabc    k8s.gcr.io/pause:3.3                                \"/pause\"                  2 hours ago    Up                 k8s://kube-system/kube-proxy-b9gh2                                                         \n",
      "8a92fd9a6409    docker.io/library/nginx:1.21.4                      \"/docker-entrypoint.…\"    2 hours ago    Up                 k8s://kube-system/nginx-proxy-node3/nginx-proxy                                            \n",
      "8b16e9831009    quay.io/calico/node:v3.22.3                         \"start_runit\"             2 hours ago    Up                 k8s://kube-system/calico-node-h47zr/calico-node                                            \n",
      "ae0dade85a32    k8s.gcr.io/pause:3.3                                \"/pause\"                  2 hours ago    Up                 k8s://local-path-storage/local-path-provisioner-6957789775-h7rss                           \n",
      "bb9c52b37332    k8s.gcr.io/kube-proxy:v1.23.7                       \"/usr/local/bin/kube…\"    2 hours ago    Up                 k8s://kube-system/kube-proxy-b9gh2/kube-proxy                                              \n",
      "c5dfa941c65e    k8s.gcr.io/pause:3.3                                \"/pause\"                  2 hours ago    Up                 k8s://kube-system/nodelocaldns-s728x                                                       \n",
      "d20b73a79052    docker.io/rancher/local-path-provisioner:v0.0.21    \"local-path-provisio…\"    2 hours ago    Up                 k8s://local-path-storage/local-path-provisioner-6957789775-h7rss/local-path-provisioner    \n",
      "e92741c303fd    k8s.gcr.io/pause:3.3                                \"/pause\"                  2 hours ago    Up                 k8s://kube-system/nginx-proxy-node3                                                        \n"
     ]
    }
   ],
   "source": [
    "# Which containers are running on node 3 ?\n",
    "! ssh -q node3 \"nerdctl ps\""
   ]
  },
  {
   "cell_type": "markdown",
   "id": "477507e3-70d8-46b5-8a8f-e8b1d4c260a9",
   "metadata": {},
   "source": [
    "## Running a pod"
   ]
  },
  {
   "cell_type": "code",
   "execution_count": null,
   "id": "4f22ab1c-08f1-45d0-ba92-95d18391b717",
   "metadata": {},
   "outputs": [],
   "source": [
    "! kubectl run nginx --image=nginx --restart=Never"
   ]
  }
 ],
 "metadata": {
  "kernelspec": {
   "display_name": "Python 3 (ipykernel)",
   "language": "python",
   "name": "python3"
  },
  "language_info": {
   "codemirror_mode": {
    "name": "ipython",
    "version": 3
   },
   "file_extension": ".py",
   "mimetype": "text/x-python",
   "name": "python",
   "nbconvert_exporter": "python",
   "pygments_lexer": "ipython3",
   "version": "3.10.5"
  }
 },
 "nbformat": 4,
 "nbformat_minor": 5
}
