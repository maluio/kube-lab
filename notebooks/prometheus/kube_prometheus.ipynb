{
 "cells": [
  {
   "cell_type": "markdown",
   "id": "4503ec26-1c47-4ec8-9205-56fa7806bfac",
   "metadata": {},
   "source": [
    "# kube-prometheus monitoring stack (prometheus + grafana + dashboard + ...)\n",
    "\n",
    "https://github.com/prometheus-operator/kube-prometheus\n",
    "\n",
    "> kube-prometheus provides example configurations for a complete cluster monitoring stack based on Prometheus and the Prometheus Operator. This includes deployment of multiple Prometheus and Alertmanager instances, metrics exporters such as the node_exporter for gathering node metrics, scrape target configuration linking Prometheus to various metrics endpoints, and example alerting rules for notification of potential issues in the cluster.\n",
    "\n",
    "Components included in this package:\n",
    "\n",
    "* The Prometheus Operator\n",
    "* Highly available Prometheus\n",
    "* Highly available Alertmanager\n",
    "* Prometheus node-exporter\n",
    "* Prometheus Adapter for Kubernetes Metrics APIs\n",
    "* kube-state-metrics\n",
    "* Grafana\n",
    "\n",
    "Quickstart: https://github.com/prometheus-operator/kube-prometheus#quickstart"
   ]
  },
  {
   "cell_type": "markdown",
   "id": "a226cec8-c3b8-40dd-b5a6-a88aa688ce7f",
   "metadata": {},
   "source": [
    "## Before"
   ]
  },
  {
   "cell_type": "code",
   "execution_count": 4,
   "id": "1edf5bfb-80b4-4601-8ba2-904d900a3d76",
   "metadata": {},
   "outputs": [
    {
     "name": "stdout",
     "output_type": "stream",
     "text": [
      "NAME                 STATUS   AGE\n",
      "default              Active   3h33m\n",
      "kube-node-lease      Active   3h33m\n",
      "kube-public          Active   3h33m\n",
      "kube-system          Active   3h33m\n",
      "local-path-storage   Active   3h30m\n"
     ]
    }
   ],
   "source": [
    "! kubectl get ns"
   ]
  },
  {
   "cell_type": "code",
   "execution_count": 7,
   "id": "117298f3-0b10-4ed8-bbee-16a16ef23f30",
   "metadata": {},
   "outputs": [
    {
     "name": "stdout",
     "output_type": "stream",
     "text": [
      "NAME                                                  CREATED AT\n"
     ]
    }
   ],
   "source": [
    "# What CRD are installed? (ignoring calico)\n",
    "! kubectl get crd | grep -v calico"
   ]
  },
  {
   "cell_type": "markdown",
   "id": "d98c7ffe-38c7-43d0-8ab0-e4f324eec247",
   "metadata": {},
   "source": [
    "## Installing prometheus operator"
   ]
  },
  {
   "cell_type": "code",
   "execution_count": 1,
   "id": "5a01ad9e-2792-418f-920a-a17ed64cdc1b",
   "metadata": {},
   "outputs": [
    {
     "name": "stdout",
     "output_type": "stream",
     "text": [
      "Cloning into 'kube-prometheus'...\n",
      "remote: Enumerating objects: 16363, done.\u001b[K\n",
      "remote: Counting objects: 100% (284/284), done.\u001b[K\n",
      "remote: Compressing objects: 100% (128/128), done.\u001b[K\n",
      "remote: Total 16363 (delta 201), reused 208 (delta 145), pack-reused 16079\u001b[K\n",
      "Receiving objects: 100% (16363/16363), 8.18 MiB | 12.26 MiB/s, done.\n",
      "Resolving deltas: 100% (10531/10531), done.\n"
     ]
    }
   ],
   "source": [
    "! cd /tmp && git clone https://github.com/prometheus-operator/kube-prometheus.git"
   ]
  },
  {
   "cell_type": "code",
   "execution_count": 3,
   "id": "63fe458d-87ee-4c8c-98e9-e0aa9d0f0f68",
   "metadata": {},
   "outputs": [
    {
     "name": "stdout",
     "output_type": "stream",
     "text": [
      "total 1644\n",
      "drwxr-xr-x 2 root root   4096 Jun 21 11:40 .\n",
      "drwxr-xr-x 3 root root   4096 Jun 21 11:40 ..\n",
      "-rw-r--r-- 1 root root 262517 Jun 21 11:40 0alertmanagerConfigCustomResourceDefinition.yaml\n",
      "-rw-r--r-- 1 root root 380157 Jun 21 11:40 0alertmanagerCustomResourceDefinition.yaml\n",
      "-rw-r--r-- 1 root root  32772 Jun 21 11:40 0podmonitorCustomResourceDefinition.yaml\n",
      "-rw-r--r-- 1 root root  34152 Jun 21 11:40 0probeCustomResourceDefinition.yaml\n",
      "-rw-r--r-- 1 root root 511838 Jun 21 11:40 0prometheusCustomResourceDefinition.yaml\n",
      "-rw-r--r-- 1 root root   4132 Jun 21 11:40 0prometheusruleCustomResourceDefinition.yaml\n",
      "-rw-r--r-- 1 root root  33849 Jun 21 11:40 0servicemonitorCustomResourceDefinition.yaml\n",
      "-rw-r--r-- 1 root root 389163 Jun 21 11:40 0thanosrulerCustomResourceDefinition.yaml\n",
      "-rw-r--r-- 1 root root     60 Jun 21 11:40 namespace.yaml\n"
     ]
    }
   ],
   "source": [
    "! ls -la /tmp/kube-prometheus/manifests/setup"
   ]
  },
  {
   "cell_type": "code",
   "execution_count": 8,
   "id": "b58e4f69-1401-45c4-b082-f5d86660860e",
   "metadata": {},
   "outputs": [
    {
     "name": "stdout",
     "output_type": "stream",
     "text": [
      "customresourcedefinition.apiextensions.k8s.io/alertmanagerconfigs.monitoring.coreos.com serverside-applied\n",
      "customresourcedefinition.apiextensions.k8s.io/alertmanagers.monitoring.coreos.com serverside-applied\n",
      "customresourcedefinition.apiextensions.k8s.io/podmonitors.monitoring.coreos.com serverside-applied\n",
      "customresourcedefinition.apiextensions.k8s.io/probes.monitoring.coreos.com serverside-applied\n",
      "customresourcedefinition.apiextensions.k8s.io/prometheuses.monitoring.coreos.com serverside-applied\n",
      "customresourcedefinition.apiextensions.k8s.io/prometheusrules.monitoring.coreos.com serverside-applied\n",
      "customresourcedefinition.apiextensions.k8s.io/servicemonitors.monitoring.coreos.com serverside-applied\n",
      "customresourcedefinition.apiextensions.k8s.io/thanosrulers.monitoring.coreos.com serverside-applied\n",
      "namespace/monitoring serverside-applied\n",
      "No resources found\n"
     ]
    }
   ],
   "source": [
    "! cd /tmp/kube-prometheus && kubectl apply --server-side -f manifests/setup\n",
    "! until kubectl get servicemonitors --all-namespaces ; do date; sleep 1; echo \"\"; done"
   ]
  },
  {
   "cell_type": "code",
   "execution_count": 9,
   "id": "89d4f4a2-17a2-4aaf-b129-168cfded4ceb",
   "metadata": {},
   "outputs": [
    {
     "name": "stdout",
     "output_type": "stream",
     "text": [
      "total 1984\n",
      "drwxr-xr-x  3 root root    4096 Jun 21 11:40 .\n",
      "drwxr-xr-x 12 root root    4096 Jun 21 11:40 ..\n",
      "-rw-r--r--  1 root root     928 Jun 21 11:40 alertmanager-alertmanager.yaml\n",
      "-rw-r--r--  1 root root     977 Jun 21 11:40 alertmanager-networkPolicy.yaml\n",
      "-rw-r--r--  1 root root     561 Jun 21 11:40 alertmanager-podDisruptionBudget.yaml\n",
      "-rw-r--r--  1 root root    7072 Jun 21 11:40 alertmanager-prometheusRule.yaml\n",
      "-rw-r--r--  1 root root    1443 Jun 21 11:40 alertmanager-secret.yaml\n",
      "-rw-r--r--  1 root root     650 Jun 21 11:40 alertmanager-service.yaml\n",
      "-rw-r--r--  1 root root     351 Jun 21 11:40 alertmanager-serviceAccount.yaml\n",
      "-rw-r--r--  1 root root     637 Jun 21 11:40 alertmanager-serviceMonitor.yaml\n",
      "-rw-r--r--  1 root root     287 Jun 21 11:40 blackboxExporter-clusterRole.yaml\n",
      "-rw-r--r--  1 root root     485 Jun 21 11:40 blackboxExporter-clusterRoleBinding.yaml\n",
      "-rw-r--r--  1 root root    1392 Jun 21 11:40 blackboxExporter-configuration.yaml\n",
      "-rw-r--r--  1 root root    3545 Jun 21 11:40 blackboxExporter-deployment.yaml\n",
      "-rw-r--r--  1 root root     722 Jun 21 11:40 blackboxExporter-networkPolicy.yaml\n",
      "-rw-r--r--  1 root root     540 Jun 21 11:40 blackboxExporter-service.yaml\n",
      "-rw-r--r--  1 root root     315 Jun 21 11:40 blackboxExporter-serviceAccount.yaml\n",
      "-rw-r--r--  1 root root     680 Jun 21 11:40 blackboxExporter-serviceMonitor.yaml\n",
      "-rw-r--r--  1 root root     344 Jun 21 11:40 grafana-config.yaml\n",
      "-rw-r--r--  1 root root     680 Jun 21 11:40 grafana-dashboardDatasources.yaml\n",
      "-rw-r--r--  1 root root 1548477 Jun 21 11:40 grafana-dashboardDefinitions.yaml\n",
      "-rw-r--r--  1 root root     658 Jun 21 11:40 grafana-dashboardSources.yaml\n",
      "-rw-r--r--  1 root root    9290 Jun 21 11:40 grafana-deployment.yaml\n",
      "-rw-r--r--  1 root root     651 Jun 21 11:40 grafana-networkPolicy.yaml\n",
      "-rw-r--r--  1 root root    1427 Jun 21 11:40 grafana-prometheusRule.yaml\n",
      "-rw-r--r--  1 root root     452 Jun 21 11:40 grafana-service.yaml\n",
      "-rw-r--r--  1 root root     293 Jun 21 11:40 grafana-serviceAccount.yaml\n",
      "-rw-r--r--  1 root root     398 Jun 21 11:40 grafana-serviceMonitor.yaml\n",
      "-rw-r--r--  1 root root    4361 Jun 21 11:40 kubePrometheus-prometheusRule.yaml\n",
      "-rw-r--r--  1 root root    1712 Jun 21 11:40 kubeStateMetrics-clusterRole.yaml\n",
      "-rw-r--r--  1 root root     464 Jun 21 11:40 kubeStateMetrics-clusterRoleBinding.yaml\n",
      "-rw-r--r--  1 root root    3423 Jun 21 11:40 kubeStateMetrics-deployment.yaml\n",
      "-rw-r--r--  1 root root     723 Jun 21 11:40 kubeStateMetrics-networkPolicy.yaml\n",
      "-rw-r--r--  1 root root    3152 Jun 21 11:40 kubeStateMetrics-prometheusRule.yaml\n",
      "-rw-r--r--  1 root root     580 Jun 21 11:40 kubeStateMetrics-service.yaml\n",
      "-rw-r--r--  1 root root     316 Jun 21 11:40 kubeStateMetrics-serviceAccount.yaml\n",
      "-rw-r--r--  1 root root    1011 Jun 21 11:40 kubeStateMetrics-serviceMonitor.yaml\n",
      "-rw-r--r--  1 root root   71499 Jun 21 11:40 kubernetesControlPlane-prometheusRule.yaml\n",
      "-rw-r--r--  1 root root    6997 Jun 21 11:40 kubernetesControlPlane-serviceMonitorApiserver.yaml\n",
      "-rw-r--r--  1 root root     591 Jun 21 11:40 kubernetesControlPlane-serviceMonitorCoreDNS.yaml\n",
      "-rw-r--r--  1 root root    6516 Jun 21 11:40 kubernetesControlPlane-serviceMonitorKubeControllerManager.yaml\n",
      "-rw-r--r--  1 root root     577 Jun 21 11:40 kubernetesControlPlane-serviceMonitorKubeScheduler.yaml\n",
      "-rw-r--r--  1 root root    7714 Jun 21 11:40 kubernetesControlPlane-serviceMonitorKubelet.yaml\n",
      "-rw-r--r--  1 root root     485 Jun 21 11:40 nodeExporter-clusterRole.yaml\n",
      "-rw-r--r--  1 root root     468 Jun 21 11:40 nodeExporter-clusterRoleBinding.yaml\n",
      "-rw-r--r--  1 root root    3588 Jun 21 11:40 nodeExporter-daemonset.yaml\n",
      "-rw-r--r--  1 root root     671 Jun 21 11:40 nodeExporter-networkPolicy.yaml\n",
      "-rw-r--r--  1 root root   14553 Jun 21 11:40 nodeExporter-prometheusRule.yaml\n",
      "-rw-r--r--  1 root root     492 Jun 21 11:40 nodeExporter-service.yaml\n",
      "-rw-r--r--  1 root root     306 Jun 21 11:40 nodeExporter-serviceAccount.yaml\n",
      "-rw-r--r--  1 root root     850 Jun 21 11:40 nodeExporter-serviceMonitor.yaml\n",
      "-rw-r--r--  1 root root     430 Jun 21 11:40 prometheus-clusterRole.yaml\n",
      "-rw-r--r--  1 root root     483 Jun 21 11:40 prometheus-clusterRoleBinding.yaml\n",
      "-rw-r--r--  1 root root     922 Jun 21 11:40 prometheus-networkPolicy.yaml\n",
      "-rw-r--r--  1 root root     546 Jun 21 11:40 prometheus-podDisruptionBudget.yaml\n",
      "-rw-r--r--  1 root root    1238 Jun 21 11:40 prometheus-prometheus.yaml\n",
      "-rw-r--r--  1 root root   15726 Jun 21 11:40 prometheus-prometheusRule.yaml\n",
      "-rw-r--r--  1 root root     507 Jun 21 11:40 prometheus-roleBindingConfig.yaml\n",
      "-rw-r--r--  1 root root    1661 Jun 21 11:40 prometheus-roleBindingSpecificNamespaces.yaml\n",
      "-rw-r--r--  1 root root     402 Jun 21 11:40 prometheus-roleConfig.yaml\n",
      "-rw-r--r--  1 root root    2161 Jun 21 11:40 prometheus-roleSpecificNamespaces.yaml\n",
      "-rw-r--r--  1 root root     637 Jun 21 11:40 prometheus-service.yaml\n",
      "-rw-r--r--  1 root root     343 Jun 21 11:40 prometheus-serviceAccount.yaml\n",
      "-rw-r--r--  1 root root     624 Jun 21 11:40 prometheus-serviceMonitor.yaml\n",
      "-rw-r--r--  1 root root     482 Jun 21 11:40 prometheusAdapter-apiService.yaml\n",
      "-rw-r--r--  1 root root     433 Jun 21 11:40 prometheusAdapter-clusterRole.yaml\n",
      "-rw-r--r--  1 root root     600 Jun 21 11:40 prometheusAdapter-clusterRoleAggregatedMetricsReader.yaml\n",
      "-rw-r--r--  1 root root     495 Jun 21 11:40 prometheusAdapter-clusterRoleBinding.yaml\n",
      "-rw-r--r--  1 root root     518 Jun 21 11:40 prometheusAdapter-clusterRoleBindingDelegator.yaml\n",
      "-rw-r--r--  1 root root     402 Jun 21 11:40 prometheusAdapter-clusterRoleServerResources.yaml\n",
      "-rw-r--r--  1 root root    2204 Jun 21 11:40 prometheusAdapter-configMap.yaml\n",
      "-rw-r--r--  1 root root    3171 Jun 21 11:40 prometheusAdapter-deployment.yaml\n",
      "-rw-r--r--  1 root root     564 Jun 21 11:40 prometheusAdapter-networkPolicy.yaml\n",
      "-rw-r--r--  1 root root     501 Jun 21 11:40 prometheusAdapter-podDisruptionBudget.yaml\n",
      "-rw-r--r--  1 root root     515 Jun 21 11:40 prometheusAdapter-roleBindingAuthReader.yaml\n",
      "-rw-r--r--  1 root root     501 Jun 21 11:40 prometheusAdapter-service.yaml\n",
      "-rw-r--r--  1 root root     323 Jun 21 11:40 prometheusAdapter-serviceAccount.yaml\n",
      "-rw-r--r--  1 root root     906 Jun 21 11:40 prometheusAdapter-serviceMonitor.yaml\n",
      "-rw-r--r--  1 root root    1401 Jun 21 11:40 prometheusOperator-clusterRole.yaml\n",
      "-rw-r--r--  1 root root     471 Jun 21 11:40 prometheusOperator-clusterRoleBinding.yaml\n",
      "-rw-r--r--  1 root root    2631 Jun 21 11:40 prometheusOperator-deployment.yaml\n",
      "-rw-r--r--  1 root root     694 Jun 21 11:40 prometheusOperator-networkPolicy.yaml\n",
      "-rw-r--r--  1 root root    5819 Jun 21 11:40 prometheusOperator-prometheusRule.yaml\n",
      "-rw-r--r--  1 root root     515 Jun 21 11:40 prometheusOperator-service.yaml\n",
      "-rw-r--r--  1 root root     321 Jun 21 11:40 prometheusOperator-serviceAccount.yaml\n",
      "-rw-r--r--  1 root root     715 Jun 21 11:40 prometheusOperator-serviceMonitor.yaml\n",
      "drwxr-xr-x  2 root root    4096 Jun 21 11:40 setup\n"
     ]
    }
   ],
   "source": [
    "! ls -la /tmp/kube-prometheus/manifests/"
   ]
  },
  {
   "cell_type": "code",
   "execution_count": null,
   "id": "0ab69f37-451b-4738-a09f-2a35e96786e5",
   "metadata": {},
   "outputs": [],
   "source": [
    "! cd /tmp/kube-prometheus && kubectl apply -f manifests/"
   ]
  },
  {
   "cell_type": "code",
   "execution_count": null,
   "id": "1e6cec96-83cd-43fe-9766-2da4c85dfc27",
   "metadata": {},
   "outputs": [],
   "source": [
    "! kubectl get all -n monitoring"
   ]
  },
  {
   "cell_type": "code",
   "execution_count": 12,
   "id": "21a5fab7-a1f1-4b3e-935f-f64cc02e1f1c",
   "metadata": {},
   "outputs": [],
   "source": [
    "# clean up\n",
    "# ! cd /tmp/kube-prometheus && kubectl delete --ignore-not-found=true -f manifests/ -f manifests/setup"
   ]
  }
 ],
 "metadata": {
  "kernelspec": {
   "display_name": "Python 3 (ipykernel)",
   "language": "python",
   "name": "python3"
  },
  "language_info": {
   "codemirror_mode": {
    "name": "ipython",
    "version": 3
   },
   "file_extension": ".py",
   "mimetype": "text/x-python",
   "name": "python",
   "nbconvert_exporter": "python",
   "pygments_lexer": "ipython3",
   "version": "3.10.5"
  }
 },
 "nbformat": 4,
 "nbformat_minor": 5
}
