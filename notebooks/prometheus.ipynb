{
 "cells": [
  {
   "cell_type": "markdown",
   "id": "4503ec26-1c47-4ec8-9205-56fa7806bfac",
   "metadata": {},
   "source": [
    "# kube-prometheus (prometheus + grafana + dashboard)\n",
    "\n",
    "https://github.com/prometheus-operator/kube-prometheus\n",
    "\n",
    "Quickstart: https://github.com/prometheus-operator/kube-prometheus#quickstart"
   ]
  },
  {
   "cell_type": "markdown",
   "id": "d98c7ffe-38c7-43d0-8ab0-e4f324eec247",
   "metadata": {},
   "source": [
    "## Installing prometheus operator"
   ]
  },
  {
   "cell_type": "code",
   "execution_count": null,
   "id": "5a01ad9e-2792-418f-920a-a17ed64cdc1b",
   "metadata": {},
   "outputs": [],
   "source": [
    "! cd /tmp && git clone https://github.com/prometheus-operator/kube-prometheus.git"
   ]
  },
  {
   "cell_type": "code",
   "execution_count": null,
   "id": "63fe458d-87ee-4c8c-98e9-e0aa9d0f0f68",
   "metadata": {},
   "outputs": [],
   "source": [
    "! cd /tmp/kube-prometheus && kubectl apply --server-side -f manifests/setup\n",
    "! until kubectl get servicemonitors --all-namespaces ; do date; sleep 1; echo \"\"; done"
   ]
  },
  {
   "cell_type": "code",
   "execution_count": null,
   "id": "0ab69f37-451b-4738-a09f-2a35e96786e5",
   "metadata": {},
   "outputs": [],
   "source": [
    "! cd /tmp/kube-prometheus && kubectl apply -f manifests/"
   ]
  },
  {
   "cell_type": "code",
   "execution_count": null,
   "id": "1e6cec96-83cd-43fe-9766-2da4c85dfc27",
   "metadata": {},
   "outputs": [],
   "source": [
    "! kubectl get all -n monitoring"
   ]
  },
  {
   "cell_type": "code",
   "execution_count": 1,
   "id": "21a5fab7-a1f1-4b3e-935f-f64cc02e1f1c",
   "metadata": {},
   "outputs": [],
   "source": [
    "# clean up\n",
    "# kubectl delete --ignore-not-found=true -f manifests/ -f manifests/setup"
   ]
  },
  {
   "cell_type": "markdown",
   "id": "9303d55f-d9e0-493c-9412-69711e2aa99c",
   "metadata": {},
   "source": [
    "## Adding an app to be discovered by prometheus\n",
    "\n",
    "[prometheus operator example](https://github.com/prometheus-operator/kube-prometheus/tree/main/examples/example-app)"
   ]
  },
  {
   "cell_type": "code",
   "execution_count": null,
   "id": "5cd77320-6ef7-48b4-88fc-29d0739200d7",
   "metadata": {},
   "outputs": [],
   "source": [
    "! kubectl apply -f https://raw.githubusercontent.com/prometheus-operator/kube-prometheus/main/examples/example-app/example-app.yaml"
   ]
  },
  {
   "cell_type": "code",
   "execution_count": 30,
   "id": "90d0197e-60e6-49ec-aa1c-2c1bc0b9b167",
   "metadata": {},
   "outputs": [
    {
     "name": "stdout",
     "output_type": "stream",
     "text": [
      "Endpoints:         10.233.92.7:8080,10.233.92.8:8080,10.233.96.8:8080 + 1 more...\n"
     ]
    }
   ],
   "source": [
    "# Get endpoints of the example app\n",
    "! kubectl describe svc example-app | grep Endpoints"
   ]
  },
  {
   "cell_type": "code",
   "execution_count": 62,
   "id": "858a844a-7a5b-4c16-9a8f-353ff64a10d0",
   "metadata": {},
   "outputs": [
    {
     "name": "stdout",
     "output_type": "stream",
     "text": [
      "  % Total    % Received % Xferd  Average Speed   Time    Time     Time  Current\n",
      "                                 Dload  Upload   Total   Spent    Left  Speed\n",
      "  0     0    0     0    0     0      0      0 --:--:-- --:--:-- --:--:--     0# HELP demo_api_http_requests_in_progress The current number of API HTTP requests in progress.\n",
      "# TYPE demo_api_http_requests_in_progress gauge\n",
      "demo_api_http_requests_in_progress 0\n",
      "# HELP demo_api_request_duration_seconds A histogram of the API HTTP request durations in seconds.\n",
      "# TYPE demo_api_request_duration_seconds histogram\n",
      "demo_api_request_duration_seconds_bucket{method=\"GET\",path=\"/api/bar\",status=\"200\",le=\"0.0001\"} 0\n",
      "demo_api_request_duration_seconds_bucket{method=\"GET\",path=\"/api/bar\",status=\"200\",le=\"0.00015000000000000001\"} 0\n",
      "demo_api_request_duration_seconds_bucket{method=\"GET\",path=\"/api/bar\",status=\"200\",le=\"0.00022500000000000002\"} 0\n",
      "demo_api_request_duration_seconds_bucket{method=\"GET\",path=\"/api/bar\",status=\"200\",le=\"0.0003375\"} 0\n",
      "demo_api_request_duration_seconds_bucket{method=\"GET\",path=\"/api/bar\",status=\"200\",le=\"0.00050625\"} 0\n",
      "100 36498  100 36498    0     0  3960k      0 --:--:-- --:--:-- --:--:-- 3960k\n"
     ]
    }
   ],
   "source": [
    "# The examples app exposes /metrics :\n",
    "! ssh -q node1 \"curl http://10.233.92.7:8080/metrics\" | head"
   ]
  },
  {
   "cell_type": "code",
   "execution_count": null,
   "id": "29b2ed7d-f880-448e-90f4-1578e1318917",
   "metadata": {},
   "outputs": [],
   "source": [
    "# http://127.0.0.1:9090/api/v1/targets\n",
    "! kubectl describe svc prometheus-k8s -n monitoring"
   ]
  },
  {
   "cell_type": "code",
   "execution_count": 69,
   "id": "ec503947-5223-42cb-8bbf-7926e174de11",
   "metadata": {},
   "outputs": [],
   "source": [
    "# The prometheus-k8s-* pods expose /metrics with all metrics of all targets combined\n",
    "# However, the example apps metrics are NOT included\n",
    "! ssh -q node3 curl -s  http://10.233.92.6:9090/metrics | grep demo_api_request_duration_seconds_bucket"
   ]
  },
  {
   "cell_type": "markdown",
   "id": "fe1cb6a5-f952-4796-b89e-0a54c3da4fb6",
   "metadata": {},
   "source": [
    "### How to I make prometheus discover the example app?\n",
    "\n",
    "[kubernetes_sd_config in the prometheus docs](https://prometheus.io/docs/prometheus/latest/configuration/configuration/#kubernetes_sd_config)"
   ]
  },
  {
   "cell_type": "code",
   "execution_count": null,
   "id": "90ccd211-a63c-41cf-849d-6620c13735df",
   "metadata": {},
   "outputs": [],
   "source": []
  }
 ],
 "metadata": {
  "kernelspec": {
   "display_name": "Python 3 (ipykernel)",
   "language": "python",
   "name": "python3"
  },
  "language_info": {
   "codemirror_mode": {
    "name": "ipython",
    "version": 3
   },
   "file_extension": ".py",
   "mimetype": "text/x-python",
   "name": "python",
   "nbconvert_exporter": "python",
   "pygments_lexer": "ipython3",
   "version": "3.10.5"
  }
 },
 "nbformat": 4,
 "nbformat_minor": 5
}
