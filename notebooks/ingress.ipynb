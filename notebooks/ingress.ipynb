{
 "cells": [
  {
   "cell_type": "markdown",
   "id": "c9faa282-45fe-4952-ae32-a3b79a7f60c3",
   "metadata": {
    "tags": []
   },
   "source": [
    "# Ingress\n",
    "\n",
    "* [kubernetes.io](https://kubernetes.io/docs/concepts/services-networking/ingress/)\n",
    "* [NGINX Ingress Controller](https://kubernetes.github.io/ingress-nginx/)\n",
    "* [kubespray docs](https://kubespray.io/#/docs/ingress_controller/ingress_nginx)\n",
    "* [kubespray ansible files](https://github.com/kubernetes-sigs/kubespray/tree/331647f4abca7d059c248ac10b7ba43d9f4b86fc/roles/kubernetes-apps/ingress_controller/ingress_nginx)\n",
    "* [Publishing Services (ServiceTypes)](https://kubernetes.io/docs/concepts/services-networking/service/#publishing-services-service-types)\n",
    "\n",
    "As a reminder from the kubernetes docs:\n",
    "\n",
    "> [Ingress is] An API object that manages external access to the services in a cluster, typically HTTP.\n",
    "\n",
    "> Ingress may provide load balancing, SSL termination and name-based virtual hosting\n",
    "\n",
    "> Ingress exposes HTTP and HTTPS routes from outside the cluster to services within the cluster. Traffic routing is controlled by rules defined on the Ingress resource.\n",
    "\n",
    "> An Ingress controller is responsible for fulfilling the Ingress, usually with a load balancer, though it may also configure your edge router or additional frontends to help handle the traffic.\n",
    "\n",
    "> An Ingress does not expose arbitrary ports or protocols. Exposing services other than HTTP and HTTPS to the internet typically uses a service of type Service.Type=NodePort or Service.Type=LoadBalancer.\n",
    "\n",
    "## Goal\n",
    "\n",
    "* Run a pod with a simple http server that is publicly accessible via **http://app1.foo**\n",
    "\n",
    "## Questions\n",
    "\n",
    "### Do I have to use a Cloud Manager controlled LoadBalancer or can I get it working with just the nginx ingress and some manuel configuration?\n",
    "\n",
    "* [Use a Service to Access an Application in a Cluster](https://kubernetes.io/docs/tasks/access-application-cluster/service-access-application-cluster/)\n",
    "\n",
    "### What's my Ingress Class?\n",
    "see [Ingress Class](https://kubernetes.io/docs/concepts/services-networking/ingress/#ingress-class)?\n",
    "\n",
    "### Who handles/terminates TLS ?\n",
    "\n",
    "### Do I need a service type LoadBalancer?\n",
    "\n",
    "See [service type LoadBalancer](https://kubernetes.io/docs/tasks/access-application-cluster/create-external-load-balancer/#create-a-service)? (This would mean I need a cloud supported load balancer or MetalLB...)\n",
    "\n",
    "### What's the service type External IPs for?\n",
    "\n",
    "[External IPs](https://kubernetes.io/docs/concepts/services-networking/service/#external-ips)\n",
    "\n",
    "## Steps\n",
    "\n",
    "* Install the nginx ingress controller via kubespray\n",
    "* Deploy [an Ingress object](https://kubernetes.github.io/ingress-nginx/user-guide/basic-usage/)"
   ]
  },
  {
   "cell_type": "markdown",
   "id": "99366d29-4c77-41de-8fd5-2a9347e33448",
   "metadata": {},
   "source": [
    "## Install nginx ingress controller via kubespray\n",
    "\n",
    "Looking at [the manifests](https://github.com/kubernetes-sigs/kubespray/tree/785324827cd8ad5c69c0d6af23549b4ae5c8bfbd/roles/kubernetes-apps/ingress_controller/ingress_nginx/templates) I expect the following to be installed:\n",
    "\n",
    "* 1 clusterRole `ingress-nginx`\n",
    "* 1 clusterRoleBinding `ingress-nginx`\n",
    "* 1 PodSecurityPolicy `ingress-nginx`\n",
    "* 1 namespace `ingress-nginx` and within that namespace:\n",
    "    * 3 ConfigMaps\n",
    "    * 1 DaemonSet\n",
    "    * 1 Role\n",
    "    * 1 RoleBinding\n",
    "    * 1 ServiceAccount"
   ]
  },
  {
   "cell_type": "code",
   "execution_count": 5,
   "id": "35650120-552e-476d-b022-0f1eea569963",
   "metadata": {
    "tags": []
   },
   "outputs": [],
   "source": [
    "! cd /usr/src/kubespray && ansible-playbook -i /usr/src/app/mycluster cluster.yml -t ingress-nginx -b -e ingress_nginx_enabled=true"
   ]
  },
  {
   "cell_type": "markdown",
   "id": "81785526-e149-4421-a6a4-9ec95cbba341",
   "metadata": {},
   "source": [
    "### Verify installation\n",
    "\n",
    "`kubectl get pods --all-namespaces -l app.kubernetes.io/name=ingress-nginx --watch`"
   ]
  },
  {
   "cell_type": "code",
   "execution_count": 13,
   "id": "7643a827-9e71-422f-b75b-fc27771cd19a",
   "metadata": {},
   "outputs": [],
   "source": [
    "! kubectl get ns"
   ]
  },
  {
   "cell_type": "code",
   "execution_count": 14,
   "id": "0eb6d2c1-9fa0-4886-b076-0431a31cd7c3",
   "metadata": {},
   "outputs": [],
   "source": [
    "! kubectl get all -n ingress-nginx"
   ]
  },
  {
   "cell_type": "code",
   "execution_count": 15,
   "id": "f751e3ff-b8ec-4bd7-946c-3de3f535d3f3",
   "metadata": {},
   "outputs": [],
   "source": [
    "! kubectl get cm -n ingress-nginx"
   ]
  },
  {
   "cell_type": "code",
   "execution_count": 16,
   "id": "f2bebf7b-ea76-40aa-988a-f995f9bb4d37",
   "metadata": {},
   "outputs": [],
   "source": [
    "! kubectl get sa -n ingress-nginx"
   ]
  },
  {
   "cell_type": "code",
   "execution_count": 21,
   "id": "d4a8e4eb-7903-4eea-9daf-732185795ef3",
   "metadata": {
    "tags": []
   },
   "outputs": [],
   "source": [
    "! kubectl logs $(kubectl get po -n ingress-nginx -o jsonpath=\"{.items[0].metadata.name}\") -n ingress-nginx"
   ]
  },
  {
   "cell_type": "code",
   "execution_count": 20,
   "id": "31556bbd-7eea-40cc-b26a-1bf4e384e1af",
   "metadata": {},
   "outputs": [],
   "source": [
    "! kubectl get po -n ingress-nginx -o jsonpath=\"{.items[*].metadata.name}\""
   ]
  },
  {
   "cell_type": "markdown",
   "id": "93c9e160-5f99-4e33-92a5-2629b6dc8ca9",
   "metadata": {},
   "source": [
    "## Run a pod with a simple http server that is publicly accessible via http://app1.foo"
   ]
  },
  {
   "cell_type": "code",
   "execution_count": 24,
   "id": "801a8a5f-e492-4def-9f8b-cfe664543013",
   "metadata": {},
   "outputs": [],
   "source": [
    "! kubectl run app1 --image=nginx"
   ]
  },
  {
   "cell_type": "code",
   "execution_count": 33,
   "id": "8f838715-a801-4db0-9133-f99754baa89a",
   "metadata": {},
   "outputs": [],
   "source": [
    "! kubectl expose po app1 --port=80 --target-port=80"
   ]
  },
  {
   "cell_type": "code",
   "execution_count": 144,
   "id": "75f235f9-1ae8-4ff4-b4ba-e8fa183311c7",
   "metadata": {},
   "outputs": [
    {
     "name": "stdout",
     "output_type": "stream",
     "text": [
      "10.233.16.147\n"
     ]
    }
   ],
   "source": [
    "# get the ClusterIp of the app1 service and store in a pseudo env var\n",
    "! echo $(kubectl get svc -l run=app1 -o jsonpath=\"{.items[0].spec.clusterIP}\") > /tmp/APP1 && cat /tmp/APP1"
   ]
  },
  {
   "cell_type": "code",
   "execution_count": 146,
   "id": "50b5836a-1625-4cf5-b1f8-6347b6e569d0",
   "metadata": {},
   "outputs": [
    {
     "name": "stdout",
     "output_type": "stream",
     "text": [
      "Warning: Permanently added 'xxx.xxx.195.230' (ECDSA) to the list of known hosts.\n",
      "  % Total    % Received % Xferd  Average Speed   Time    Time     Time  Current\n",
      "                                 Dload  Upload   Total   Spent    Left  Speed\n",
      "  0     0    0     0    0     0      0      0 <!DOCTYPE html>\n",
      "<html>\n",
      "<head>\n",
      "<title>Welcome to nginx!</title>\n",
      "<style>\n",
      "html { color-scheme: light dark; }\n",
      "body { width: 35em; margin: 0 auto;\n",
      "font-family: Tahoma, Verdana, Arial, sans-serif; }\n",
      "</style>\n",
      "</head>\n",
      "<body>\n",
      "<h1>Welcome to nginx!</h1>\n",
      "<p>If you see this page, the nginx web server is successfully installed and\n",
      "working. Further configuration is required.</p>\n",
      "\n",
      "<p>For online documentation and support please refer to\n",
      "<a href=\"http://nginx.org/\">nginx.org</a>.<br/>\n",
      "Commercial support is available at\n",
      "<a href=\"http://nginx.com/\">nginx.com</a>.</p>\n",
      "\n",
      "<p><em>Thank you for using nginx.</em></p>\n",
      "</body>\n",
      "</html>\n",
      "100   615  100   615    0     0   120k      0 --:--:-- --:--:-- --:--:--  120k\n"
     ]
    }
   ],
   "source": [
    "# Verify app1 responds on its cluster ip\n",
    "! ssh node1 curl http://$(cat /tmp/APP1)"
   ]
  },
  {
   "cell_type": "code",
   "execution_count": 147,
   "id": "b51f130a-222c-4355-b2a1-4e0c1641fbc0",
   "metadata": {},
   "outputs": [],
   "source": [
    "\"\"\"\n",
    "Write the ingress manifest to a local file.\n",
    "\"\"\"\n",
    "\n",
    "content = \"\"\"apiVersion: networking.k8s.io/v1\n",
    "kind: Ingress\n",
    "metadata:\n",
    "  name: app1\n",
    "spec:\n",
    "  rules:\n",
    "  - host: app1.foo\n",
    "    http:\n",
    "      paths:\n",
    "      - path: /\n",
    "        pathType: Prefix\n",
    "        backend:\n",
    "          service:\n",
    "            name: app1\n",
    "            port:\n",
    "              number: 80\n",
    "  # ingressClassName: nginx\n",
    "\"\"\"\n",
    "\n",
    "with open('/tmp/app1-ingress.yml', 'w') as f:\n",
    "    f.write(content)"
   ]
  },
  {
   "cell_type": "code",
   "execution_count": 70,
   "id": "13980f33-2eac-4655-81f4-ee3d2e291d64",
   "metadata": {},
   "outputs": [
    {
     "name": "stdout",
     "output_type": "stream",
     "text": [
      "ingress.networking.k8s.io/app1 created\n"
     ]
    }
   ],
   "source": [
    "! kubectl apply -f /tmp/app1-ingress.yml"
   ]
  },
  {
   "cell_type": "code",
   "execution_count": 75,
   "id": "4ac34e87-7676-49f4-82bf-1e74417a478f",
   "metadata": {},
   "outputs": [
    {
     "name": "stdout",
     "output_type": "stream",
     "text": [
      "Name:             app1\n",
      "Labels:           <none>\n",
      "Namespace:        default\n",
      "Address:          xxx.xxx.235.216,xxx.xxx.195.197\n",
      "Ingress Class:    <none>\n",
      "Default backend:  <default>\n",
      "Rules:\n",
      "  Host        Path  Backends\n",
      "  ----        ----  --------\n",
      "  app1.foo    \n",
      "              /   app1:80 (10.233.92.3:80)\n",
      "Annotations:  <none>\n",
      "Events:\n",
      "  Type    Reason  Age                From                      Message\n",
      "  ----    ------  ----               ----                      -------\n",
      "  Normal  Sync    16s (x2 over 51s)  nginx-ingress-controller  Scheduled for sync\n",
      "  Normal  Sync    16s (x2 over 51s)  nginx-ingress-controller  Scheduled for sync\n"
     ]
    }
   ],
   "source": [
    "! kubectl describe ingress app1"
   ]
  },
  {
   "cell_type": "code",
   "execution_count": 186,
   "id": "133d99ec-66f0-4938-ba67-99206ad472d7",
   "metadata": {},
   "outputs": [],
   "source": [
    "# get ingress1's ip\n",
    "! echo $(kubectl get ingress -o jsonpath=\"{.items[0].status.loadBalancer.ingress[0].ip}\") > /tmp/NODE1"
   ]
  },
  {
   "cell_type": "code",
   "execution_count": 185,
   "id": "fa5918cc-3bac-471c-8572-8f79e77ec2fb",
   "metadata": {},
   "outputs": [],
   "source": [
    "# get ingress2's ip\n",
    "! echo $(kubectl get ingress -o jsonpath=\"{.items[0].status.loadBalancer.ingress[1].ip}\") > /tmp/NODE2"
   ]
  },
  {
   "cell_type": "code",
   "execution_count": 168,
   "id": "2afc6082-6722-4d6a-aaae-4376d1390b03",
   "metadata": {},
   "outputs": [
    {
     "name": "stdout",
     "output_type": "stream",
     "text": [
      "# <nerdctl>\n",
      "127.0.0.1          localhost localhost.localdomain\n",
      ":1                 localhost localhost.localdomain\n",
      "10.4.0.31          1704616f7564 nginx\n",
      "10.4.0.65          fcb3c336a3c9 kube-lab\n",
      "# </nerdctl>\n",
      "\n",
      "xxx.xxx.235.216 app1.foo\n",
      "xxx.xxx.195.197 app1.foo\n"
     ]
    }
   ],
   "source": [
    "# Write ingress ips to /etc/hosts\n",
    "! echo \"$(cat /tmp/NODE1) app1.foo\" >> /etc/hosts\n",
    "! echo \"$(cat /tmp/NODE2) app1.foo\" >> /etc/hosts\n",
    "! cat /etc/hosts"
   ]
  },
  {
   "cell_type": "code",
   "execution_count": 171,
   "id": "1d0163e0-29c4-4140-a840-3420f7f91daa",
   "metadata": {},
   "outputs": [
    {
     "name": "stdout",
     "output_type": "stream",
     "text": [
      "*   Trying xxx.xxx.235.216:80...\n",
      "* Connected to app1.foo (xxx.xxx.235.216) port 80 (#0)\n",
      "> HEAD / HTTP/1.1\n",
      "> Host: app1.foo\n",
      "> User-Agent: curl/7.74.0\n",
      "> Accept: */*\n",
      "> \n",
      "* Mark bundle as not supporting multiuse\n",
      "< HTTP/1.1 200 OK\n",
      "HTTP/1.1 200 OK\n",
      "< Date: Fri, 10 Jun 2022 12:27:22 GMT\n",
      "\u001b[1mDate\u001b[0m: Fri, 10 Jun 2022 12:27:22 GMT\n",
      "< Content-Type: text/html\n",
      "\u001b[1mContent-Type\u001b[0m: text/html\n",
      "< Content-Length: 615\n",
      "\u001b[1mContent-Length\u001b[0m: 615\n",
      "< Connection: keep-alive\n",
      "\u001b[1mConnection\u001b[0m: keep-alive\n",
      "< Last-Modified: Tue, 25 Jan 2022 15:03:52 GMT\n",
      "\u001b[1mLast-Modified\u001b[0m: Tue, 25 Jan 2022 15:03:52 GMT\n",
      "< ETag: \"61f01158-267\"\n",
      "\u001b[1mETag\u001b[0m: \"61f01158-267\"\n",
      "< Accept-Ranges: bytes\n",
      "\u001b[1mAccept-Ranges\u001b[0m: bytes\n",
      "\n",
      "< \n",
      "* Connection #0 to host app1.foo left intact\n"
     ]
    }
   ],
   "source": [
    "! curl -v http://app1.foo -I"
   ]
  },
  {
   "cell_type": "code",
   "execution_count": 172,
   "id": "1fa03a05-6dfb-4659-b264-71fc377c5bb9",
   "metadata": {
    "tags": []
   },
   "outputs": [
    {
     "name": "stdout",
     "output_type": "stream",
     "text": [
      "10.233.90.0 - - [10/Jun/2022:12:08:24 +0000] \"GET / HTTP/1.1\" 200 615 \"-\" \"curl/7.68.0\" \"-\"\n",
      "10.233.90.0 - - [10/Jun/2022:12:08:29 +0000] \"GET / HTTP/1.1\" 200 615 \"-\" \"curl/7.68.0\" \"-\"\n",
      "10.233.90.0 - - [10/Jun/2022:12:08:59 +0000] \"GET / HTTP/1.1\" 200 615 \"-\" \"curl/7.68.0\" \"-\"\n",
      "10.233.90.0 - - [10/Jun/2022:12:09:12 +0000] \"GET / HTTP/1.1\" 200 615 \"-\" \"curl/7.68.0\" \"-\"\n",
      "10.233.90.0 - - [10/Jun/2022:12:13:46 +0000] \"GET / HTTP/1.1\" 200 615 \"-\" \"curl/7.68.0\" \"-\"\n",
      "10.233.90.0 - - [10/Jun/2022:12:15:09 +0000] \"GET / HTTP/1.1\" 200 615 \"-\" \"curl/7.68.0\" \"-\"\n",
      "10.233.90.0 - - [10/Jun/2022:12:15:53 +0000] \"GET / HTTP/1.1\" 200 615 \"-\" \"curl/7.68.0\" \"-\"\n",
      "10.233.92.2 - - [10/Jun/2022:12:27:04 +0000] \"HEAD /1.html HTTP/1.1\" 404 0 \"-\" \"curl/7.74.0\" \"xxx.xxx.207.248\"\n",
      "2022/06/10 12:27:04 [error] 31#31: *20 open() \"/usr/share/nginx/html/1.html\" failed (2: No such file or directory), client: 10.233.92.2, server: localhost, request: \"HEAD /1.html HTTP/1.1\", host: \"app1.foo\"\n",
      "10.233.92.2 - - [10/Jun/2022:12:27:22 +0000] \"HEAD / HTTP/1.1\" 200 0 \"-\" \"curl/7.74.0\" \"xxx.xxx.207.248\"\n"
     ]
    }
   ],
   "source": [
    "! kubectl logs app1 | tail"
   ]
  },
  {
   "cell_type": "code",
   "execution_count": 184,
   "id": "b472e17a-9eff-40cf-808b-dc4b11270b8d",
   "metadata": {},
   "outputs": [
    {
     "name": "stdout",
     "output_type": "stream",
     "text": [
      "I0610 11:33:16.637822       6 event.go:285] Event(v1.ObjectReference{Kind:\"Ingress\", Namespace:\"default\", Name:\"app1\", UID:\"23012dd3-7b59-45bb-adb9-e40e4503f86a\", APIVersion:\"networking.k8s.io/v1\", ResourceVersion:\"28796\", FieldPath:\"\"}): type: 'Normal' reason: 'Sync' Scheduled for sync\n",
      "I0610 11:38:28.302832       6 event.go:285] Event(v1.ObjectReference{Kind:\"Pod\", Namespace:\"ingress-nginx\", Name:\"ingress-nginx-controller-b2wcv\", UID:\"8dbc297b-96d7-425e-b4bf-7822c5981971\", APIVersion:\"v1\", ResourceVersion:\"4545\", FieldPath:\"\"}): type: 'Normal' reason: 'RELOAD' NGINX reload triggered due to a change in configuration\n",
      "I0610 11:38:41.447946       6 event.go:285] Event(v1.ObjectReference{Kind:\"Ingress\", Namespace:\"default\", Name:\"app1\", UID:\"32d1be7e-99d6-4be1-a43c-a59a99ce554d\", APIVersion:\"networking.k8s.io/v1\", ResourceVersion:\"29411\", FieldPath:\"\"}): type: 'Normal' reason: 'Sync' Scheduled for sync\n",
      "I0610 11:38:41.535777       6 event.go:285] Event(v1.ObjectReference{Kind:\"Pod\", Namespace:\"ingress-nginx\", Name:\"ingress-nginx-controller-b2wcv\", UID:\"8dbc297b-96d7-425e-b4bf-7822c5981971\", APIVersion:\"v1\", ResourceVersion:\"4545\", FieldPath:\"\"}): type: 'Normal' reason: 'RELOAD' NGINX reload triggered due to a change in configuration\n",
      "I0610 11:39:16.642148       6 event.go:285] Event(v1.ObjectReference{Kind:\"Ingress\", Namespace:\"default\", Name:\"app1\", UID:\"32d1be7e-99d6-4be1-a43c-a59a99ce554d\", APIVersion:\"networking.k8s.io/v1\", ResourceVersion:\"29484\", FieldPath:\"\"}): type: 'Normal' reason: 'Sync' Scheduled for sync\n"
     ]
    }
   ],
   "source": [
    "# get logs of first ingress pod on first node\n",
    "! kubectl logs $(kubectl get po -n ingress-nginx -o jsonpath=\"{.items[0].metadata.name}\") -n ingress-nginx | grep Event | tail -5"
   ]
  },
  {
   "cell_type": "code",
   "execution_count": 183,
   "id": "10e7a36d-3219-4afe-a95b-d1f4b142effc",
   "metadata": {},
   "outputs": [
    {
     "name": "stdout",
     "output_type": "stream",
     "text": [
      "I0610 11:33:16.637100       7 event.go:285] Event(v1.ObjectReference{Kind:\"Ingress\", Namespace:\"default\", Name:\"app1\", UID:\"23012dd3-7b59-45bb-adb9-e40e4503f86a\", APIVersion:\"networking.k8s.io/v1\", ResourceVersion:\"28796\", FieldPath:\"\"}): type: 'Normal' reason: 'Sync' Scheduled for sync\n",
      "I0610 11:38:28.310426       7 event.go:285] Event(v1.ObjectReference{Kind:\"Pod\", Namespace:\"ingress-nginx\", Name:\"ingress-nginx-controller-z8qxk\", UID:\"ae08c28b-6ebd-4e37-9342-c98bcedb41da\", APIVersion:\"v1\", ResourceVersion:\"4573\", FieldPath:\"\"}): type: 'Normal' reason: 'RELOAD' NGINX reload triggered due to a change in configuration\n",
      "I0610 11:38:41.447521       7 event.go:285] Event(v1.ObjectReference{Kind:\"Ingress\", Namespace:\"default\", Name:\"app1\", UID:\"32d1be7e-99d6-4be1-a43c-a59a99ce554d\", APIVersion:\"networking.k8s.io/v1\", ResourceVersion:\"29411\", FieldPath:\"\"}): type: 'Normal' reason: 'Sync' Scheduled for sync\n",
      "I0610 11:38:41.531107       7 event.go:285] Event(v1.ObjectReference{Kind:\"Pod\", Namespace:\"ingress-nginx\", Name:\"ingress-nginx-controller-z8qxk\", UID:\"ae08c28b-6ebd-4e37-9342-c98bcedb41da\", APIVersion:\"v1\", ResourceVersion:\"4573\", FieldPath:\"\"}): type: 'Normal' reason: 'RELOAD' NGINX reload triggered due to a change in configuration\n",
      "I0610 11:39:16.644468       7 event.go:285] Event(v1.ObjectReference{Kind:\"Ingress\", Namespace:\"default\", Name:\"app1\", UID:\"32d1be7e-99d6-4be1-a43c-a59a99ce554d\", APIVersion:\"networking.k8s.io/v1\", ResourceVersion:\"29484\", FieldPath:\"\"}): type: 'Normal' reason: 'Sync' Scheduled for sync\n"
     ]
    }
   ],
   "source": [
    "# get logs of second ingress pod on second node\n",
    "! kubectl logs $(kubectl get po -n ingress-nginx -o jsonpath=\"{.items[1].metadata.name}\") -n ingress-nginx | grep Event | tail -5"
   ]
  },
  {
   "cell_type": "markdown",
   "id": "928754d6-0962-4c5e-a644-9d167b6a1cf3",
   "metadata": {},
   "source": [
    "### Conclusion\n",
    "\n",
    "I don't need an actual external loadbancer or metalLB to expose services publicly. \n",
    "\n",
    "Provisioning the ingress nginx controller and creating the Ingress assigns the public ip's of the node to the Ingress.\n",
    "\n",
    "This means I can create an A record in a domain's zone I own to point to one of the two public node's ips. Even if the pod runs only on one node the requests gets routed to the pod."
   ]
  }
 ],
 "metadata": {
  "kernelspec": {
   "display_name": "Python 3 (ipykernel)",
   "language": "python",
   "name": "python3"
  },
  "language_info": {
   "codemirror_mode": {
    "name": "ipython",
    "version": 3
   },
   "file_extension": ".py",
   "mimetype": "text/x-python",
   "name": "python",
   "nbconvert_exporter": "python",
   "pygments_lexer": "ipython3",
   "version": "3.10.5"
  }
 },
 "nbformat": 4,
 "nbformat_minor": 5
}
