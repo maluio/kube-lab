{
 "cells": [
  {
   "cell_type": "markdown",
   "id": "ff9e375b-23f5-4607-aa59-ac3bc20fb2e1",
   "metadata": {},
   "source": [
    "# Gitlab\n",
    "\n",
    "## Goal\n",
    "\n",
    "Running gitlab in a k8s cluster\n",
    "\n",
    "## Prerequisites\n",
    "\n",
    "* k8s cluster\n",
    "* helm\n",
    "\n",
    "## Links\n",
    "\n",
    "* gitlab helm deployment [Quick Start Guide](https://docs.gitlab.com/charts/quickstart/index.html)\n",
    "* More indepth helm deploy: [Deploy using Helm](https://docs.gitlab.com/charts/installation/deployment.html#deploy-using-helm)\n",
    "* [List of Gitlab Helm charts](https://charts.gitlab.io/)\n",
    "* The main [helm chart source](https://gitlab.com/gitlab-org/charts/gitlab)\n",
    "* [Debugging Helm charts](https://helm.sh/docs/chart_template_guide/debugging/)\n",
    "* This is a list of useful information regarding Kubernetes that the GitLab Support Team sometimes uses while troubleshooting.: [Kubernetes, GitLab, and you](https://docs.gitlab.com/ee/administration/troubleshooting/kubernetes_cheat_sheet.html#gitlab-specific-kubernetes-information)\n"
   ]
  },
  {
   "cell_type": "markdown",
   "id": "6ce8754e-56c0-4065-bf02-72cda32868b4",
   "metadata": {},
   "source": [
    "## Adding the gitlab chart repo"
   ]
  },
  {
   "cell_type": "code",
   "execution_count": 12,
   "id": "68c4e20b-0b10-4632-ac84-ed73bb932997",
   "metadata": {},
   "outputs": [
    {
     "name": "stdout",
     "output_type": "stream",
     "text": [
      "\"gitlab\" already exists with the same configuration, skipping\n",
      "Hang tight while we grab the latest from your chart repositories...\n",
      "...Successfully got an update from the \"gitlab\" chart repository\n",
      "Update Complete. ⎈Happy Helming!⎈\n"
     ]
    }
   ],
   "source": [
    "! helm repo add gitlab https://charts.gitlab.io/\n",
    "! helm repo update"
   ]
  },
  {
   "cell_type": "markdown",
   "id": "36c69b64-f763-4be5-96ff-c6e5bd39ba6c",
   "metadata": {},
   "source": [
    "## dry-running\n",
    "\n",
    "Let's see what the gitlab chart would like to deploy.\n",
    "\n",
    "We'll use `helm install gitlab gitlab/gitlab --dry-run` and pipe the output into a file because the output is *very* long\n",
    "\n",
    "You can add `--debug` to also get the helm values printed in your dry-run.\n",
    "\n",
    "There is also `helm get manifest gitlab`. My understanding is that it displays the manifests *after* the deployment (*release* in helm lingo)."
   ]
  },
  {
   "cell_type": "code",
   "execution_count": null,
   "id": "aff28545-d076-4fce-ad14-333f5b1de958",
   "metadata": {},
   "outputs": [],
   "source": [
    "! helm install gitlab gitlab/gitlab --dry-run --timeout 600s \\\n",
    "  --set global.hosts.domain=example.com \\\n",
    "  --set certmanager-issuer.email=me@example.com \\\n",
    "  > dry-run.txt"
   ]
  },
  {
   "cell_type": "code",
   "execution_count": 38,
   "id": "394b13a2-8a27-4d57-b946-6bd669bb49c2",
   "metadata": {},
   "outputs": [
    {
     "name": "stdout",
     "output_type": "stream",
     "text": [
      "      1  Certificate\n",
      "      1  CertificateRequest\n",
      "      1  Challenge\n",
      "      1  ClusterIssuer\n",
      "     26  ClusterRole\n",
      "     12  ClusterRoleBinding\n",
      "     26  ConfigMap\n",
      "      6  CustomResourceDefinition\n",
      "     20  Deployment\n",
      "      5  HorizontalPodAutoscaler\n",
      "      4  Ingress\n",
      "      1  IngressClass\n",
      "      2  Issuer\n",
      "      6  Job\n",
      "      1  MutatingWebhookConfiguration\n",
      "      1  Order\n",
      "      2  PersistentVolumeClaim\n",
      "      1  Pod\n",
      "      8  PodDisruptionBudget\n",
      "     16  Role\n",
      "      8  RoleBinding\n",
      "      1  Secret\n",
      "     19  Service\n",
      "     30  ServiceAccount\n",
      "      3  StatefulSet\n",
      "      1  ValidatingWebhookConfiguration\n"
     ]
    }
   ],
   "source": [
    "# Getting a rough idea of the kind and number of k8s resources by\n",
    "# grepping lines with \"kind: X\" in them, doing some cleanup and counting them\n",
    "! grep \"kind: \" dry-run.txt | tr -s \" \" | sed \"s/.*kind://g\" | tr -d '\"' | sort | uniq -c"
   ]
  },
  {
   "cell_type": "markdown",
   "id": "2d89f125-6672-4a44-a1fb-5f87d44fb27b",
   "metadata": {},
   "source": [
    "This is **a lot**"
   ]
  },
  {
   "cell_type": "markdown",
   "id": "2bc09a8e-795e-4654-934e-a4bb5d776cae",
   "metadata": {},
   "source": [
    "## Deploying the gitlab chart"
   ]
  },
  {
   "cell_type": "markdown",
   "id": "358e3a73-73a6-4525-bbf1-2bc44bc7167e",
   "metadata": {},
   "source": [
    "### First attempt\n",
    "\n",
    "I don't to use a real dmain and email adress for this lab. I tried doing a quick start with the default values:\n",
    "\n",
    "```\n",
    "helm install gitlab gitlab/gitlab \\\n",
    "  --set global.hosts.domain=example.com \\\n",
    "  --set certmanager-issuer.email=me@example.com\n",
    "```\n",
    "\n",
    "**Issues**:  \n",
    "\n",
    "The ingress doesn't expose anything on a public IP.\n",
    "\n",
    "I'll try to solve the issue with https://docs.gitlab.com/charts/charts/globals.html#globalingressconfigurecertmanager\n"
   ]
  },
  {
   "cell_type": "markdown",
   "id": "6af174e9-8d00-43c2-9a73-ffb44ff52230",
   "metadata": {},
   "source": [
    "### Second attempt\n",
    "\n",
    "```\n",
    "helm install gitlab gitlab/gitlab \\\n",
    "  --set global.hosts.domain=example.com \\\n",
    "  --set global.ingress.configureCertmanager=false\n",
    "```\n",
    "\n",
    "**Issues**:  \n",
    "\n",
    "* by default, two pods with the gitlab Webservice are provisioned, but one can't be scheduled because its memory claims exceed the little test cluster\n",
    "* the gitlab runner in an error status, probably because of `global.ingress.configureCertmanager=false`\n",
    "\n"
   ]
  },
  {
   "cell_type": "markdown",
   "id": "d43242fe-8efe-44ad-88dc-61051911ae88",
   "metadata": {},
   "source": [
    "### Third attempt\n",
    "\n",
    "```\n",
    "! helm install gitlab gitlab/gitlab \\\n",
    "  --set global.hosts.domain=example.com \\\n",
    "  --set global.ingress.configureCertmanager=false \\\n",
    "  --set gitlab.certmanager.install=false \\\n",
    "  --set gitlab.webservice.image.repository=registry.gitlab.com/gitlab-org/build/cng/gitlab-webservice-ce \\\n",
    "  --set gitlab.webservice.workhorse.image=registry.gitlab.com/gitlab-org/build/cng/gitlab-workhorse-ce \\\n",
    "  --set gitlab.webservice.ingress.tls.enabled=false \\\n",
    "  --set gitlab.deployments.default.hpa.minReplicas=1 \\\n",
    "  --set gitlab.deployments.default.hpa.maxReplicas=1\n",
    "```\n",
    "\n",
    "\n",
    "**Issues**:\n",
    "\n",
    "* When proxying the gitlab webservice to the local machine I get this error upon trying to login/register:` 422\n",
    "The change you requested was rejected`.\n",
    "* `gitlab.deployments.default.hpa.maxReplicas=1` doesn't change the replicas value in the resulting hpa. Only way the change it is to edit deployed hpa: `kubectl edit hpa gitlab-webservice-default`\n",
    "* `gitlab.certmanager.install=false` doesn't seem to have an effect.\n",
    "\n",
    "\n",
    "**Learnings**:\n",
    "\n",
    "* you run gitlab rake task from within the toolbox pod (`exec -it gitlab-toolbox-6646c89d6f-l226t bash`) and then `usr/local/bin/gitlab-rake --tasks`\n",
    "    * [gitlab rake tasks](https://docs.gitlab.com/ee/raketasks/)"
   ]
  },
  {
   "cell_type": "code",
   "execution_count": null,
   "id": "eec986a9-19dd-48d9-a2c8-b4f584409f7c",
   "metadata": {},
   "outputs": [],
   "source": [
    "! helm status gitlab | tr -s \"\\n\""
   ]
  },
  {
   "cell_type": "code",
   "execution_count": 44,
   "id": "c5a85477-50df-4e35-b89a-4cf73742466b",
   "metadata": {},
   "outputs": [],
   "source": [
    "# What manifests were installed ?\n",
    "! helm get manifest gitlab > manifests.txt"
   ]
  },
  {
   "cell_type": "code",
   "execution_count": null,
   "id": "cb1e8b9d-d780-49aa-8545-5cc58a396455",
   "metadata": {},
   "outputs": [],
   "source": [
    "# Seems like helm installed what was promised\n",
    "! grep \"kind: \" manifests.txt | tr -s \" \" | sed \"s/.*kind://g\" | tr -d '\"' | sort | uniq -c"
   ]
  },
  {
   "cell_type": "code",
   "execution_count": null,
   "id": "9a4ed2cd-bd02-4528-a37d-a00c8dfa83fd",
   "metadata": {},
   "outputs": [],
   "source": [
    "! kubectl get ingress"
   ]
  },
  {
   "cell_type": "code",
   "execution_count": null,
   "id": "a58a6b01-37b8-4142-b50c-9b017d7c5833",
   "metadata": {},
   "outputs": [],
   "source": [
    "! kubectl describe ingress gitlab-webservice-default"
   ]
  }
 ],
 "metadata": {
  "kernelspec": {
   "display_name": "Python 3 (ipykernel)",
   "language": "python",
   "name": "python3"
  },
  "language_info": {
   "codemirror_mode": {
    "name": "ipython",
    "version": 3
   },
   "file_extension": ".py",
   "mimetype": "text/x-python",
   "name": "python",
   "nbconvert_exporter": "python",
   "pygments_lexer": "ipython3",
   "version": "3.10.5"
  }
 },
 "nbformat": 4,
 "nbformat_minor": 5
}
