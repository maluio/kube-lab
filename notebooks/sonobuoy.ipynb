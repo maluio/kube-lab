{
 "cells": [
  {
   "cell_type": "markdown",
   "id": "dc1ec6a9-4ee3-4ebf-8149-86988b94468c",
   "metadata": {},
   "source": [
    "* https://github.com/vmware-tanzu/sonobuoy"
   ]
  },
  {
   "cell_type": "code",
   "execution_count": null,
   "id": "86d914bb-550e-41c5-8a38-c922ebd42795",
   "metadata": {},
   "outputs": [],
   "source": []
  }
 ],
 "metadata": {
  "kernelspec": {
   "display_name": "Python 3 (ipykernel)",
   "language": "python",
   "name": "python3"
  },
  "language_info": {
   "codemirror_mode": {
    "name": "ipython",
    "version": 3
   },
   "file_extension": ".py",
   "mimetype": "text/x-python",
   "name": "python",
   "nbconvert_exporter": "python",
   "pygments_lexer": "ipython3",
   "version": "3.10.5"
  }
 },
 "nbformat": 4,
 "nbformat_minor": 5
}
