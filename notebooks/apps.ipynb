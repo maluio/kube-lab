{
 "cells": [
  {
   "cell_type": "markdown",
   "id": "23b73559-0c40-4111-a453-b960ebd6f07f",
   "metadata": {},
   "source": [
    "# Installing apps in the cluster"
   ]
  },
  {
   "cell_type": "markdown",
   "id": "ef320347-4719-4322-80cc-ebf8366465e6",
   "metadata": {},
   "source": [
    "# gitea (via helm)"
   ]
  },
  {
   "cell_type": "code",
   "execution_count": null,
   "id": "08352ec3-fa61-40e9-a9a4-93af6a7ff517",
   "metadata": {},
   "outputs": [],
   "source": [
    "# https://docs.gitea.io/en-us/install-on-kubernetes/#installation-with-helm-on-kubernetes\n",
    "! helm repo add gitea-charts https://dl.gitea.io/charts/\n",
    "! helm install gitea gitea-charts/gitea"
   ]
  },
  {
   "cell_type": "code",
   "execution_count": null,
   "id": "79e7926d-7ea0-4f7e-a09a-be2d68f703ab",
   "metadata": {},
   "outputs": [],
   "source": [
    "! kubectl describe service/gitea-http"
   ]
  },
  {
   "cell_type": "code",
   "execution_count": null,
   "id": "7e6c2bd6-f14f-4e4c-ba1c-7f4a204cdb97",
   "metadata": {},
   "outputs": [],
   "source": [
    "! helm repo add portainer https://portainer.github.io/k8s/\n",
    "! helm repo update"
   ]
  },
  {
   "cell_type": "markdown",
   "id": "1843b239-224c-4665-97e1-1afc722a4da2",
   "metadata": {},
   "source": [
    "# portainer (via helm)"
   ]
  },
  {
   "cell_type": "code",
   "execution_count": null,
   "id": "89fcf10c-cbff-49b6-a586-bc7ef0ea4fa6",
   "metadata": {},
   "outputs": [],
   "source": [
    "! helm install --create-namespace -n portainer portainer portainer/portainer"
   ]
  },
  {
   "cell_type": "code",
   "execution_count": null,
   "id": "981a836c-39a1-41ea-b05a-1bd1546e704c",
   "metadata": {},
   "outputs": [],
   "source": [
    "! export NODE_PORT=$(kubectl get --namespace portainer -o jsonpath=\"{.spec.ports[1].nodePort}\" services portainer) && export NODE_IP=$(kubectl get nodes --namespace portainer -o jsonpath=\"{.items[0].status.addresses[0].address}\") && echo https://$NODE_IP:$NODE_PORT"
   ]
  },
  {
   "cell_type": "code",
   "execution_count": null,
   "id": "0b107899-6992-4718-ba13-db06c6c4915a",
   "metadata": {},
   "outputs": [],
   "source": [
    "! kubectl get all -n portainer"
   ]
  },
  {
   "cell_type": "code",
   "execution_count": null,
   "id": "dd41ad4c-3a8b-4071-b09f-2f71c95372a5",
   "metadata": {},
   "outputs": [],
   "source": [
    "! kubectl delete pod/portainer-685c4f4bfc-wb5nd -n portainer"
   ]
  },
  {
   "cell_type": "code",
   "execution_count": null,
   "id": "99a3fd72-4a7d-4c63-a702-0195b6b57101",
   "metadata": {},
   "outputs": [],
   "source": [
    "! kubectl "
   ]
  },
  {
   "cell_type": "markdown",
   "id": "09e36ab5-3e74-46aa-ac7a-c06a948e6325",
   "metadata": {},
   "source": [
    "# Grafana (from standalone manifest)"
   ]
  },
  {
   "cell_type": "code",
   "execution_count": null,
   "id": "e321570c-c85d-4141-a5af-75390ed8195c",
   "metadata": {},
   "outputs": [],
   "source": [
    "! kubectl apply -f manifests/grafana.yml"
   ]
  },
  {
   "cell_type": "code",
   "execution_count": null,
   "id": "4ecdd4cc-7f10-4ca4-b162-671ea229a691",
   "metadata": {},
   "outputs": [],
   "source": [
    "! kubectl get po"
   ]
  }
 ],
 "metadata": {
  "kernelspec": {
   "display_name": "Python 3 (ipykernel)",
   "language": "python",
   "name": "python3"
  },
  "language_info": {
   "codemirror_mode": {
    "name": "ipython",
    "version": 3
   },
   "file_extension": ".py",
   "mimetype": "text/x-python",
   "name": "python",
   "nbconvert_exporter": "python",
   "pygments_lexer": "ipython3",
   "version": "3.10.5"
  }
 },
 "nbformat": 4,
 "nbformat_minor": 5
}
